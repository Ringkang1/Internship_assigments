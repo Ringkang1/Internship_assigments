{
  "nbformat": 4,
  "nbformat_minor": 0,
  "metadata": {
    "colab": {
      "provenance": []
    },
    "kernelspec": {
      "name": "python3",
      "display_name": "Python 3"
    },
    "language_info": {
      "name": "python"
    }
  },
  "cells": [
    {
      "cell_type": "markdown",
      "source": [
        "##Assigment1"
      ],
      "metadata": {
        "id": "YlPI9lDJXjD1"
      }
    },
    {
      "cell_type": "markdown",
      "source": [
        "1.Load the dataset 'iris.csv' using Pandas and split it into features (X) and target variable (y). Print how many features and target classes are there in the dataset? (Hint: Use Pandas functions)"
      ],
      "metadata": {
        "id": "U7bNxepjXb1w"
      }
    },
    {
      "cell_type": "code",
      "source": [
        "import pandas as pd\n",
        "data=pd.read_csv('iris.csv')\n",
        "data"
      ],
      "metadata": {
        "colab": {
          "base_uri": "https://localhost:8080/",
          "height": 423
        },
        "id": "eHxej8GSgFOn",
        "outputId": "21cf9977-68e5-482a-eac1-076a8adfb4d9"
      },
      "execution_count": 27,
      "outputs": [
        {
          "output_type": "execute_result",
          "data": {
            "text/plain": [
              "     Index  sepallength  sepalwidth  petallength  petalwidth           class\n",
              "0        0          5.1         3.5          1.4         0.2     Iris-setosa\n",
              "1        1          4.9         3.0          1.4         0.2     Iris-setosa\n",
              "2        2          4.7         3.2          1.3         0.2     Iris-setosa\n",
              "3        3          4.6         3.1          1.5         0.2     Iris-setosa\n",
              "4        4          5.0         3.6          1.4         0.2     Iris-setosa\n",
              "..     ...          ...         ...          ...         ...             ...\n",
              "145    145          6.7         3.0          5.2         2.3  Iris-virginica\n",
              "146    146          6.3         2.5          5.0         1.9  Iris-virginica\n",
              "147    147          6.5         3.0          5.2         2.0  Iris-virginica\n",
              "148    148          6.2         3.4          5.4         2.3  Iris-virginica\n",
              "149    149          5.9         3.0          5.1         1.8  Iris-virginica\n",
              "\n",
              "[150 rows x 6 columns]"
            ],
            "text/html": [
              "\n",
              "  <div id=\"df-fd0438cf-2e0c-4e71-9342-d5cc1287ce69\">\n",
              "    <div class=\"colab-df-container\">\n",
              "      <div>\n",
              "<style scoped>\n",
              "    .dataframe tbody tr th:only-of-type {\n",
              "        vertical-align: middle;\n",
              "    }\n",
              "\n",
              "    .dataframe tbody tr th {\n",
              "        vertical-align: top;\n",
              "    }\n",
              "\n",
              "    .dataframe thead th {\n",
              "        text-align: right;\n",
              "    }\n",
              "</style>\n",
              "<table border=\"1\" class=\"dataframe\">\n",
              "  <thead>\n",
              "    <tr style=\"text-align: right;\">\n",
              "      <th></th>\n",
              "      <th>Index</th>\n",
              "      <th>sepallength</th>\n",
              "      <th>sepalwidth</th>\n",
              "      <th>petallength</th>\n",
              "      <th>petalwidth</th>\n",
              "      <th>class</th>\n",
              "    </tr>\n",
              "  </thead>\n",
              "  <tbody>\n",
              "    <tr>\n",
              "      <th>0</th>\n",
              "      <td>0</td>\n",
              "      <td>5.1</td>\n",
              "      <td>3.5</td>\n",
              "      <td>1.4</td>\n",
              "      <td>0.2</td>\n",
              "      <td>Iris-setosa</td>\n",
              "    </tr>\n",
              "    <tr>\n",
              "      <th>1</th>\n",
              "      <td>1</td>\n",
              "      <td>4.9</td>\n",
              "      <td>3.0</td>\n",
              "      <td>1.4</td>\n",
              "      <td>0.2</td>\n",
              "      <td>Iris-setosa</td>\n",
              "    </tr>\n",
              "    <tr>\n",
              "      <th>2</th>\n",
              "      <td>2</td>\n",
              "      <td>4.7</td>\n",
              "      <td>3.2</td>\n",
              "      <td>1.3</td>\n",
              "      <td>0.2</td>\n",
              "      <td>Iris-setosa</td>\n",
              "    </tr>\n",
              "    <tr>\n",
              "      <th>3</th>\n",
              "      <td>3</td>\n",
              "      <td>4.6</td>\n",
              "      <td>3.1</td>\n",
              "      <td>1.5</td>\n",
              "      <td>0.2</td>\n",
              "      <td>Iris-setosa</td>\n",
              "    </tr>\n",
              "    <tr>\n",
              "      <th>4</th>\n",
              "      <td>4</td>\n",
              "      <td>5.0</td>\n",
              "      <td>3.6</td>\n",
              "      <td>1.4</td>\n",
              "      <td>0.2</td>\n",
              "      <td>Iris-setosa</td>\n",
              "    </tr>\n",
              "    <tr>\n",
              "      <th>...</th>\n",
              "      <td>...</td>\n",
              "      <td>...</td>\n",
              "      <td>...</td>\n",
              "      <td>...</td>\n",
              "      <td>...</td>\n",
              "      <td>...</td>\n",
              "    </tr>\n",
              "    <tr>\n",
              "      <th>145</th>\n",
              "      <td>145</td>\n",
              "      <td>6.7</td>\n",
              "      <td>3.0</td>\n",
              "      <td>5.2</td>\n",
              "      <td>2.3</td>\n",
              "      <td>Iris-virginica</td>\n",
              "    </tr>\n",
              "    <tr>\n",
              "      <th>146</th>\n",
              "      <td>146</td>\n",
              "      <td>6.3</td>\n",
              "      <td>2.5</td>\n",
              "      <td>5.0</td>\n",
              "      <td>1.9</td>\n",
              "      <td>Iris-virginica</td>\n",
              "    </tr>\n",
              "    <tr>\n",
              "      <th>147</th>\n",
              "      <td>147</td>\n",
              "      <td>6.5</td>\n",
              "      <td>3.0</td>\n",
              "      <td>5.2</td>\n",
              "      <td>2.0</td>\n",
              "      <td>Iris-virginica</td>\n",
              "    </tr>\n",
              "    <tr>\n",
              "      <th>148</th>\n",
              "      <td>148</td>\n",
              "      <td>6.2</td>\n",
              "      <td>3.4</td>\n",
              "      <td>5.4</td>\n",
              "      <td>2.3</td>\n",
              "      <td>Iris-virginica</td>\n",
              "    </tr>\n",
              "    <tr>\n",
              "      <th>149</th>\n",
              "      <td>149</td>\n",
              "      <td>5.9</td>\n",
              "      <td>3.0</td>\n",
              "      <td>5.1</td>\n",
              "      <td>1.8</td>\n",
              "      <td>Iris-virginica</td>\n",
              "    </tr>\n",
              "  </tbody>\n",
              "</table>\n",
              "<p>150 rows × 6 columns</p>\n",
              "</div>\n",
              "      <button class=\"colab-df-convert\" onclick=\"convertToInteractive('df-fd0438cf-2e0c-4e71-9342-d5cc1287ce69')\"\n",
              "              title=\"Convert this dataframe to an interactive table.\"\n",
              "              style=\"display:none;\">\n",
              "        \n",
              "  <svg xmlns=\"http://www.w3.org/2000/svg\" height=\"24px\"viewBox=\"0 0 24 24\"\n",
              "       width=\"24px\">\n",
              "    <path d=\"M0 0h24v24H0V0z\" fill=\"none\"/>\n",
              "    <path d=\"M18.56 5.44l.94 2.06.94-2.06 2.06-.94-2.06-.94-.94-2.06-.94 2.06-2.06.94zm-11 1L8.5 8.5l.94-2.06 2.06-.94-2.06-.94L8.5 2.5l-.94 2.06-2.06.94zm10 10l.94 2.06.94-2.06 2.06-.94-2.06-.94-.94-2.06-.94 2.06-2.06.94z\"/><path d=\"M17.41 7.96l-1.37-1.37c-.4-.4-.92-.59-1.43-.59-.52 0-1.04.2-1.43.59L10.3 9.45l-7.72 7.72c-.78.78-.78 2.05 0 2.83L4 21.41c.39.39.9.59 1.41.59.51 0 1.02-.2 1.41-.59l7.78-7.78 2.81-2.81c.8-.78.8-2.07 0-2.86zM5.41 20L4 18.59l7.72-7.72 1.47 1.35L5.41 20z\"/>\n",
              "  </svg>\n",
              "      </button>\n",
              "      \n",
              "  <style>\n",
              "    .colab-df-container {\n",
              "      display:flex;\n",
              "      flex-wrap:wrap;\n",
              "      gap: 12px;\n",
              "    }\n",
              "\n",
              "    .colab-df-convert {\n",
              "      background-color: #E8F0FE;\n",
              "      border: none;\n",
              "      border-radius: 50%;\n",
              "      cursor: pointer;\n",
              "      display: none;\n",
              "      fill: #1967D2;\n",
              "      height: 32px;\n",
              "      padding: 0 0 0 0;\n",
              "      width: 32px;\n",
              "    }\n",
              "\n",
              "    .colab-df-convert:hover {\n",
              "      background-color: #E2EBFA;\n",
              "      box-shadow: 0px 1px 2px rgba(60, 64, 67, 0.3), 0px 1px 3px 1px rgba(60, 64, 67, 0.15);\n",
              "      fill: #174EA6;\n",
              "    }\n",
              "\n",
              "    [theme=dark] .colab-df-convert {\n",
              "      background-color: #3B4455;\n",
              "      fill: #D2E3FC;\n",
              "    }\n",
              "\n",
              "    [theme=dark] .colab-df-convert:hover {\n",
              "      background-color: #434B5C;\n",
              "      box-shadow: 0px 1px 3px 1px rgba(0, 0, 0, 0.15);\n",
              "      filter: drop-shadow(0px 1px 2px rgba(0, 0, 0, 0.3));\n",
              "      fill: #FFFFFF;\n",
              "    }\n",
              "  </style>\n",
              "\n",
              "      <script>\n",
              "        const buttonEl =\n",
              "          document.querySelector('#df-fd0438cf-2e0c-4e71-9342-d5cc1287ce69 button.colab-df-convert');\n",
              "        buttonEl.style.display =\n",
              "          google.colab.kernel.accessAllowed ? 'block' : 'none';\n",
              "\n",
              "        async function convertToInteractive(key) {\n",
              "          const element = document.querySelector('#df-fd0438cf-2e0c-4e71-9342-d5cc1287ce69');\n",
              "          const dataTable =\n",
              "            await google.colab.kernel.invokeFunction('convertToInteractive',\n",
              "                                                     [key], {});\n",
              "          if (!dataTable) return;\n",
              "\n",
              "          const docLinkHtml = 'Like what you see? Visit the ' +\n",
              "            '<a target=\"_blank\" href=https://colab.research.google.com/notebooks/data_table.ipynb>data table notebook</a>'\n",
              "            + ' to learn more about interactive tables.';\n",
              "          element.innerHTML = '';\n",
              "          dataTable['output_type'] = 'display_data';\n",
              "          await google.colab.output.renderOutput(dataTable, element);\n",
              "          const docLink = document.createElement('div');\n",
              "          docLink.innerHTML = docLinkHtml;\n",
              "          element.appendChild(docLink);\n",
              "        }\n",
              "      </script>\n",
              "    </div>\n",
              "  </div>\n",
              "  "
            ]
          },
          "metadata": {},
          "execution_count": 27
        }
      ]
    },
    {
      "cell_type": "code",
      "source": [
        "data = pd.read_csv('iris.csv')\n",
        "# Split into features (X) and target variable (y)\n",
        "X = data.drop(['Index','class'], axis=1)\n",
        "y = data['class']\n",
        "\n",
        "# Get the number of features and target classes\n",
        "num_features = X.shape[1]\n",
        "num_target_classes = y.nunique()\n",
        "\n",
        "# Print the results\n",
        "print(\"Number of features:\", num_features)\n",
        "print(\"Number of target classes:\", num_target_classes)\n"
      ],
      "metadata": {
        "colab": {
          "base_uri": "https://localhost:8080/",
          "height": 0
        },
        "id": "J9wPUXKIgVlI",
        "outputId": "e2063427-f44b-4de7-8192-1efad792637d"
      },
      "execution_count": 44,
      "outputs": [
        {
          "output_type": "stream",
          "name": "stdout",
          "text": [
            "Number of features: 4\n",
            "Number of target classes: 3\n"
          ]
        }
      ]
    },
    {
      "cell_type": "markdown",
      "source": [
        "##2.Explain the concept of the KNN algorithm in your own words."
      ],
      "metadata": {
        "id": "gymJrDu3lkli"
      }
    },
    {
      "cell_type": "markdown",
      "source": [
        "***ANS:*** KNN refers to k-nearest neighbors,it  is a  one of the simplest Machine Learning algorithms based on Supervised Learning technique.  It is a non-parametric algorithm, meaning it does not make assumptions about the underlying data distribution. It is also known as lazy learnner."
      ],
      "metadata": {
        "id": "sPc820EylyRS"
      }
    },
    {
      "cell_type": "markdown",
      "source": [
        "##3.What is the significance of the parameter 'K' in KNN? How does it affect the algorithm's performance? (Hint: Consider the usage of NumPy arrays and scikit-learn's KNeighborsClassifier)"
      ],
      "metadata": {
        "id": "uH_vcbASmgq1"
      }
    },
    {
      "cell_type": "markdown",
      "source": [
        "***ANS:***The parameter 'K' in KNN refers to the number of nearest neighbors considered for making predictions. It is a hyperparameter that needs to be specified before applying the KNN algorithm. The choice of the value of 'K' significantly affects the performance and behavior of the KNN algorithm.\n",
        "\n",
        "Only from 'K' value the prediction will be occurs because if we give huge number then it will consume time in calculating the distance thus the performance will afffect.\n",
        "Example:\n",
        "\n",
        "    from sklearn.neighbors import KNeighborsClassifier\n",
        "    knn = KNeighborsClassifier(n_neighbors=5)\n",
        "    knn.fit(X, y)\n",
        "    predictions = knn.predict(X_test)\n",
        "\n",
        "Here K value is 5"
      ],
      "metadata": {
        "id": "ZfQszGwPm64s"
      }
    },
    {
      "cell_type": "markdown",
      "source": [
        "##4.Split the dataset into training and testing sets using an 80:20 ratio. (Hint: Use scikit-learn's train_test_split)"
      ],
      "metadata": {
        "id": "4CcTP_chm8WM"
      }
    },
    {
      "cell_type": "code",
      "source": [
        "from sklearn.model_selection import train_test_split\n",
        "data = pd.read_csv('iris.csv')\n",
        "X = data.drop(['Index','class'], axis=1)\n",
        "y = data['class']\n",
        "X_train, X_test, y_train, y_test = train_test_split(X, y, test_size=0.2, random_state=42)\n",
        "print(\"Training set size:\", X_train.shape[0])\n",
        "print(\"Testing set size:\", X_test.shape[0])\n"
      ],
      "metadata": {
        "colab": {
          "base_uri": "https://localhost:8080/",
          "height": 0
        },
        "id": "-NmXMl-Rn0VV",
        "outputId": "3dafae51-b193-4637-fb43-dc8f351802bc"
      },
      "execution_count": 54,
      "outputs": [
        {
          "output_type": "stream",
          "name": "stdout",
          "text": [
            "Training set size: 120\n",
            "Testing set size: 30\n"
          ]
        }
      ]
    },
    {
      "cell_type": "markdown",
      "source": [
        "##5.Perform feature scaling on the training data using the StandardScaler from scikit-learn. (Hint: Utilize scikit-learn's StandardScaler)"
      ],
      "metadata": {
        "id": "-2-Ek5RvqJgU"
      }
    },
    {
      "cell_type": "code",
      "source": [
        "from sklearn.preprocessing import StandardScaler\n",
        "scaler = StandardScaler()\n",
        "scaler.fit(X_train)\n",
        "X_train_scaled = scaler.transform(X_train)\n",
        "print(\"Scaled training data:\")\n",
        "print(X_train_scaled)\n"
      ],
      "metadata": {
        "colab": {
          "base_uri": "https://localhost:8080/",
          "height": 0
        },
        "id": "N0gn9f1RpRw9",
        "outputId": "de14cbff-7d7b-4dd8-9dd4-219bf48cb5a0"
      },
      "execution_count": 49,
      "outputs": [
        {
          "output_type": "stream",
          "name": "stdout",
          "text": [
            "Scaled training data:\n",
            "[[-1.47393679  1.22037928 -1.5639872  -1.30948358]\n",
            " [-0.13307079  3.02001693 -1.27728011 -1.04292204]\n",
            " [ 1.08589829  0.09560575  0.38562104  0.28988568]\n",
            " [-1.23014297  0.77046987 -1.21993869 -1.30948358]\n",
            " [-1.7177306   0.32056046 -1.39196294 -1.30948358]\n",
            " [ 0.59831066 -1.25412249  0.72966956  0.95628954]\n",
            " [ 0.72020757  0.32056046  0.44296246  0.42316645]\n",
            " [-0.74255534  0.99542457 -1.27728011 -1.30948358]\n",
            " [-0.98634915  1.22037928 -1.33462153 -1.30948358]\n",
            " [-0.74255534  2.34515281 -1.27728011 -1.44276436]\n",
            " [-0.01117388 -0.80421307  0.78701097  0.95628954]\n",
            " [ 0.23261993  0.77046987  0.44296246  0.55644722]\n",
            " [ 1.08589829  0.09560575  0.5576453   0.42316645]\n",
            " [-0.86445224  0.99542457 -1.33462153 -1.17620281]\n",
            " [-0.49876152  1.44533399 -1.27728011 -1.30948358]\n",
            " [-0.37686461 -1.47907719 -0.01576889 -0.24323741]\n",
            " [ 0.59831066 -0.57925837  0.78701097  0.42316645]\n",
            " [ 0.72020757  0.09560575  1.01637665  0.82300877]\n",
            " [ 0.96400139 -0.12934896  0.38562104  0.28988568]\n",
            " [ 1.69538284  1.22037928  1.36042516  1.75597417]\n",
            " [-0.13307079 -0.35430366  0.2709382   0.15660491]\n",
            " [ 2.18297047 -0.12934896  1.64713226  1.22285108]\n",
            " [-0.2549677  -0.12934896  0.44296246  0.42316645]\n",
            " [-0.86445224  0.99542457 -1.33462153 -1.30948358]\n",
            " [ 2.30486738 -0.57925837  1.70447368  1.08957031]\n",
            " [-0.01117388 -0.80421307  0.21359679 -0.24323741]\n",
            " [-0.74255534  0.77046987 -1.33462153 -1.30948358]\n",
            " [-0.98634915  0.99542457 -1.39196294 -1.17620281]\n",
            " [-0.86445224  1.67028869 -1.04791443 -1.04292204]\n",
            " [-0.98634915 -2.37889602 -0.13045173 -0.24323741]\n",
            " [ 0.59831066 -0.80421307  0.67232814  0.82300877]\n",
            " [-1.23014297  0.77046987 -1.04791443 -1.30948358]\n",
            " [-0.98634915 -0.12934896 -1.21993869 -1.30948358]\n",
            " [-0.86445224  0.54551516 -1.16259727 -0.90964127]\n",
            " [-0.2549677  -0.80421307  0.2709382   0.15660491]\n",
            " [-0.86445224  0.77046987 -1.27728011 -1.30948358]\n",
            " [-0.13307079 -0.12934896  0.2709382   0.02332414]\n",
            " [ 2.30486738  1.67028869  1.70447368  1.35613185]\n",
            " [-1.47393679  0.32056046 -1.33462153 -1.30948358]\n",
            " [ 0.47641375 -0.35430366  0.32827962  0.15660491]\n",
            " [-0.13307079 -1.25412249  0.72966956  1.08957031]\n",
            " [-0.37686461  2.57010752 -1.33462153 -1.30948358]\n",
            " [ 0.23261993 -0.12934896  0.61498672  0.82300877]\n",
            " [-0.01117388 -0.80421307  0.78701097  0.95628954]\n",
            " [ 0.23261993 -1.9289866   0.15625537 -0.24323741]\n",
            " [-0.49876152 -0.12934896  0.44296246  0.42316645]\n",
            " [ 0.47641375  0.77046987  0.95903523  1.48941263]\n",
            " [-0.37686461 -1.7040319   0.15625537  0.15660491]\n",
            " [-0.49876152  1.8952434  -1.16259727 -1.04292204]\n",
            " [-0.98634915 -1.7040319  -0.24513457 -0.24323741]\n",
            " [ 0.72020757 -0.80421307  0.90169381  0.95628954]\n",
            " [-0.98634915  0.54551516 -1.33462153 -1.30948358]\n",
            " [-0.98634915  0.32056046 -1.44930436 -1.30948358]\n",
            " [-0.37686461 -1.47907719  0.04157253 -0.10995664]\n",
            " [ 1.08589829 -0.12934896  0.72966956  0.68972799]\n",
            " [-1.10824606  0.09560575 -1.27728011 -1.44276436]\n",
            " [-0.01117388 -0.57925837  0.78701097  1.6226934 ]\n",
            " [-0.98634915  0.77046987 -1.27728011 -1.30948358]\n",
            " [-0.98634915  0.99542457 -1.21993869 -0.7763605 ]\n",
            " [ 0.11072303  0.32056046  0.61498672  0.82300877]\n",
            " [-0.86445224 -1.25412249 -0.41715882 -0.10995664]\n",
            " [ 1.32969211  0.32056046  1.13105949  1.48941263]\n",
            " [ 0.23261993 -0.80421307  0.78701097  0.55644722]\n",
            " [ 0.35451684 -1.02916778  1.07371807  0.28988568]\n",
            " [ 2.30486738 -0.12934896  1.36042516  1.48941263]\n",
            " [-0.37686461 -1.25412249  0.15625537  0.15660491]\n",
            " [-1.7177306  -0.35430366 -1.33462153 -1.30948358]\n",
            " [-1.83962751 -0.12934896 -1.50664578 -1.44276436]\n",
            " [ 0.23261993 -1.9289866   0.72966956  0.42316645]\n",
            " [ 1.69538284  0.32056046  1.30308374  0.82300877]\n",
            " [-1.47393679  0.09560575 -1.27728011 -1.30948358]\n",
            " [-0.49876152  1.8952434  -1.39196294 -1.04292204]\n",
            " [-1.7177306  -0.12934896 -1.39196294 -1.30948358]\n",
            " [ 0.59831066 -1.25412249  0.67232814  0.42316645]\n",
            " [ 0.59831066  0.77046987  1.07371807  1.6226934 ]\n",
            " [-1.47393679  0.77046987 -1.33462153 -1.17620281]\n",
            " [ 1.2077952  -0.12934896  1.01637665  1.22285108]\n",
            " [ 0.59831066  0.54551516  1.30308374  1.75597417]\n",
            " [-1.35203988  0.32056046 -1.39196294 -1.30948358]\n",
            " [ 0.35451684 -0.35430366  0.5576453   0.28988568]\n",
            " [ 0.84210448 -0.57925837  0.50030388  0.42316645]\n",
            " [ 0.47641375 -0.57925837  0.61498672  0.82300877]\n",
            " [ 1.45158902  0.32056046  0.5576453   0.28988568]\n",
            " [ 0.72020757  0.32056046  0.90169381  1.48941263]\n",
            " [-0.86445224  1.67028869 -1.21993869 -1.30948358]\n",
            " [ 1.32969211  0.09560575  0.95903523  1.22285108]\n",
            " [ 0.11072303 -0.12934896  0.2709382   0.42316645]\n",
            " [ 0.84210448 -0.12934896  0.84435239  1.08957031]\n",
            " [-0.13307079 -1.02916778 -0.13045173 -0.24323741]\n",
            " [-0.74255534 -0.80421307  0.09891395  0.28988568]\n",
            " [ 0.35451684 -0.12934896  0.50030388  0.28988568]\n",
            " [-1.5958337  -1.7040319  -1.39196294 -1.17620281]\n",
            " [ 0.96400139 -0.35430366  0.50030388  0.15660491]\n",
            " [-0.37686461 -1.02916778  0.38562104  0.02332414]\n",
            " [-0.62065843  1.44533399 -1.27728011 -1.30948358]\n",
            " [-0.2549677  -0.12934896  0.21359679  0.15660491]\n",
            " [ 1.81727975 -0.35430366  1.475108    0.82300877]\n",
            " [ 1.08589829  0.54551516  1.13105949  1.22285108]\n",
            " [-0.86445224  1.44533399 -1.27728011 -1.04292204]\n",
            " [-1.10824606 -1.47907719 -0.24513457 -0.24323741]\n",
            " [ 1.08589829  0.54551516  1.13105949  1.75597417]\n",
            " [ 1.69538284 -0.12934896  1.18840091  0.55644722]\n",
            " [-1.10824606  0.09560575 -1.27728011 -1.44276436]\n",
            " [ 1.08589829  0.09560575  1.07371807  1.6226934 ]\n",
            " [-1.10824606 -0.12934896 -1.33462153 -1.30948358]\n",
            " [ 1.32969211  0.09560575  0.67232814  0.42316645]\n",
            " [ 1.93917666 -0.57925837  1.36042516  0.95628954]\n",
            " [ 0.59831066 -0.35430366  1.07371807  0.82300877]\n",
            " [-0.13307079 -0.57925837  0.21359679  0.15660491]\n",
            " [ 0.84210448 -0.12934896  1.01637665  0.82300877]\n",
            " [ 0.59831066 -1.7040319   0.38562104  0.15660491]\n",
            " [ 0.72020757 -0.35430366  0.32827962  0.15660491]\n",
            " [-0.2549677  -0.57925837  0.67232814  1.08957031]\n",
            " [ 0.11072303 -0.12934896  0.78701097  0.82300877]\n",
            " [-0.49876152  0.77046987 -1.16259727 -1.30948358]\n",
            " [ 0.35451684 -0.57925837  0.15625537  0.15660491]\n",
            " [-1.10824606 -1.25412249  0.44296246  0.68972799]\n",
            " [-0.01117388  2.1201981  -1.44930436 -1.30948358]\n",
            " [-0.01117388 -1.02916778  0.15625537  0.02332414]\n",
            " [ 1.57348593 -0.12934896  1.24574233  1.22285108]]\n"
          ]
        }
      ]
    },
    {
      "cell_type": "markdown",
      "source": [
        "##6.Train a KNN classifier on the scaled training data with a chosen value of K. What is the accuracy of the model on the testing data? (Hint: Use scikit-learn's KNeighborsClassifier and accuracy_score)"
      ],
      "metadata": {
        "id": "pFSVgXc8q5o9"
      }
    },
    {
      "cell_type": "code",
      "source": [
        "from sklearn.neighbors import KNeighborsClassifier\n",
        "from sklearn.metrics import accuracy_score\n",
        "knn = KNeighborsClassifier(n_neighbors=5)\n",
        "knn.fit(X_train_scaled, y_train)\n",
        "y_pred = knn.predict(X_test)\n",
        "accuracy = accuracy_score(y_test, y_pred)\n",
        "print(\"Accuracy:\", accuracy)\n"
      ],
      "metadata": {
        "colab": {
          "base_uri": "https://localhost:8080/",
          "height": 0
        },
        "id": "Xm-3INDvq_Tb",
        "outputId": "41e4db20-b1ea-4db5-f6e8-1e82a546a7ed"
      },
      "execution_count": 53,
      "outputs": [
        {
          "output_type": "stream",
          "name": "stdout",
          "text": [
            "Accuracy: 0.36666666666666664\n"
          ]
        },
        {
          "output_type": "stream",
          "name": "stderr",
          "text": [
            "/usr/local/lib/python3.10/dist-packages/sklearn/base.py:432: UserWarning: X has feature names, but KNeighborsClassifier was fitted without feature names\n",
            "  warnings.warn(\n"
          ]
        }
      ]
    },
    {
      "cell_type": "markdown",
      "source": [
        "##7.How can you choose the optimal value of K for the KNN algorithm? Explain the process. (Hint: Consider using cross-validation or grid search technique"
      ],
      "metadata": {
        "id": "TjoDbheisYpE"
      }
    },
    {
      "cell_type": "markdown",
      "source": [
        "***ANS:*** Derive a plot between error rate and K denoting values in a defined range. Then choose the K value as having a minimum error rate.\n",
        "\n",
        "Cross-validation:The process of cross-validation includes dividing the available data into numerous subsets, or folds, in order to assess how well a model performs when applied to various configurations.The process can be summarized as follows\n",
        "\n",
        "1.Make k folds in the data.\n",
        "\n",
        "2.Treat each fold as a validation set before using the remaining k-1 folds to train the KNN model.\n",
        "\n",
        "3.Analyse the model's performance on the validation set.\n",
        "\n",
        "4.Calculate the average performance parameter, such as accuracy or F1 score, after repeating the 5.process for each fold.\n",
        "\n",
        "5.Follow the same procedure for various K values.\n",
        "\n",
        "6.Choose the K value that offers the best overall average performance across folds.\n",
        "\n",
        "Grid search: Grid search is a technique that involves exhaustively searching for the best combination of hyperparameters by specifying a grid of possible values for each hyperparameter. In the case of KNN, the hyperparameter of interest is K. The process can be summarized as follows:\n",
        "\n",
        "1.Define a range of values for K that you want to evaluate.\n",
        "\n",
        "2.Create a grid of hyperparameters, where K takes on the specified values.\n",
        "\n",
        "3.For each combination of hyperparameters, perform k-fold cross-validation on the training data and evaluate the performance metric.\n",
        "\n",
        "4.Select the combination of hyperparameters (K value) that yields the best performance metric.\n"
      ],
      "metadata": {
        "id": "6h5vAbNcsu8U"
      }
    },
    {
      "cell_type": "code",
      "source": [],
      "metadata": {
        "id": "jx8ksJgdsHOz"
      },
      "execution_count": null,
      "outputs": []
    }
  ]
}